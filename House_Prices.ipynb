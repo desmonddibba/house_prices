{
 "cells": [
  {
   "cell_type": "code",
   "execution_count": 1,
   "id": "ee4fcb98",
   "metadata": {},
   "outputs": [],
   "source": [
    "import numpy as np\n",
    "import seaborn as sns\n",
    "import pandas as pd\n",
    "import matplotlib.pyplot as plt\n",
    "\n",
    "from sklearn.compose import ColumnTransformer\n",
    "from sklearn.preprocessing import OneHotEncoder\n",
    "\n",
    "from sklearn.pipeline import Pipeline\n",
    "from sklearn.preprocessing import StandardScaler\n",
    "from sklearn.impute import SimpleImputer\n",
    "\n",
    "from sklearn.model_selection import train_test_split\n",
    "from sklearn.linear_model import LinearRegression\n",
    "from sklearn.ensemble import RandomForestRegressor\n",
    "\n",
    "from sklearn.metrics import mean_squared_error, accuracy_score"
   ]
  },
  {
   "cell_type": "markdown",
   "id": "21f9c39e",
   "metadata": {},
   "source": [
    "# Kunskapskontroll"
   ]
  },
  {
   "cell_type": "markdown",
   "id": "a9db5c1e-04b4-4663-bd52-99c7cfbf3871",
   "metadata": {},
   "source": [
    "### Fyll i uppgifterna nedan innan du lämnar in på LearnPoint: \n",
    "Namn på samtliga gruppmedlemmar: "
   ]
  },
  {
   "cell_type": "code",
   "execution_count": null,
   "id": "1c9240d4-6646-48ae-8837-45a0f0b34827",
   "metadata": {},
   "outputs": [],
   "source": []
  },
  {
   "cell_type": "markdown",
   "id": "affcc534-883c-4184-86f3-dab20f4348ab",
   "metadata": {},
   "source": [
    "# Project Steps\n",
    "\n",
    "* Import & Analyze the Data\n",
    "* Analyze features & measue feature importance\n",
    "* Clean up data missing values\n",
    "* Transform Data\n",
    "* Build pipeline (-> Transform data, Scale Data )\n",
    "* GridSearch parametergrid for models\n",
    "* Validate model\n",
    "* Test model"
   ]
  },
  {
   "cell_type": "markdown",
   "id": "a96931ff",
   "metadata": {},
   "source": [
    "# Code"
   ]
  },
  {
   "cell_type": "markdown",
   "id": "b2a79328-c117-4258-948d-bd3d23dc24e8",
   "metadata": {},
   "source": [
    "#### Loading Data"
   ]
  },
  {
   "cell_type": "code",
   "execution_count": 2,
   "id": "147ea5de",
   "metadata": {},
   "outputs": [
    {
     "data": {
      "text/html": [
       "<div>\n",
       "<style scoped>\n",
       "    .dataframe tbody tr th:only-of-type {\n",
       "        vertical-align: middle;\n",
       "    }\n",
       "\n",
       "    .dataframe tbody tr th {\n",
       "        vertical-align: top;\n",
       "    }\n",
       "\n",
       "    .dataframe thead th {\n",
       "        text-align: right;\n",
       "    }\n",
       "</style>\n",
       "<table border=\"1\" class=\"dataframe\">\n",
       "  <thead>\n",
       "    <tr style=\"text-align: right;\">\n",
       "      <th></th>\n",
       "      <th>longitude</th>\n",
       "      <th>latitude</th>\n",
       "      <th>housing_median_age</th>\n",
       "      <th>total_rooms</th>\n",
       "      <th>total_bedrooms</th>\n",
       "      <th>population</th>\n",
       "      <th>households</th>\n",
       "      <th>median_income</th>\n",
       "      <th>median_house_value</th>\n",
       "      <th>ocean_proximity</th>\n",
       "    </tr>\n",
       "  </thead>\n",
       "  <tbody>\n",
       "    <tr>\n",
       "      <th>0</th>\n",
       "      <td>-122.23</td>\n",
       "      <td>37.88</td>\n",
       "      <td>41.0</td>\n",
       "      <td>880.0</td>\n",
       "      <td>129.0</td>\n",
       "      <td>322.0</td>\n",
       "      <td>126.0</td>\n",
       "      <td>8.3252</td>\n",
       "      <td>452600.0</td>\n",
       "      <td>NEAR BAY</td>\n",
       "    </tr>\n",
       "    <tr>\n",
       "      <th>1</th>\n",
       "      <td>-122.22</td>\n",
       "      <td>37.86</td>\n",
       "      <td>21.0</td>\n",
       "      <td>7099.0</td>\n",
       "      <td>1106.0</td>\n",
       "      <td>2401.0</td>\n",
       "      <td>1138.0</td>\n",
       "      <td>8.3014</td>\n",
       "      <td>358500.0</td>\n",
       "      <td>NEAR BAY</td>\n",
       "    </tr>\n",
       "    <tr>\n",
       "      <th>2</th>\n",
       "      <td>-122.24</td>\n",
       "      <td>37.85</td>\n",
       "      <td>52.0</td>\n",
       "      <td>1467.0</td>\n",
       "      <td>190.0</td>\n",
       "      <td>496.0</td>\n",
       "      <td>177.0</td>\n",
       "      <td>7.2574</td>\n",
       "      <td>352100.0</td>\n",
       "      <td>NEAR BAY</td>\n",
       "    </tr>\n",
       "    <tr>\n",
       "      <th>3</th>\n",
       "      <td>-122.25</td>\n",
       "      <td>37.85</td>\n",
       "      <td>52.0</td>\n",
       "      <td>1274.0</td>\n",
       "      <td>235.0</td>\n",
       "      <td>558.0</td>\n",
       "      <td>219.0</td>\n",
       "      <td>5.6431</td>\n",
       "      <td>341300.0</td>\n",
       "      <td>NEAR BAY</td>\n",
       "    </tr>\n",
       "    <tr>\n",
       "      <th>4</th>\n",
       "      <td>-122.25</td>\n",
       "      <td>37.85</td>\n",
       "      <td>52.0</td>\n",
       "      <td>1627.0</td>\n",
       "      <td>280.0</td>\n",
       "      <td>565.0</td>\n",
       "      <td>259.0</td>\n",
       "      <td>3.8462</td>\n",
       "      <td>342200.0</td>\n",
       "      <td>NEAR BAY</td>\n",
       "    </tr>\n",
       "  </tbody>\n",
       "</table>\n",
       "</div>"
      ],
      "text/plain": [
       "   longitude  latitude  housing_median_age  total_rooms  total_bedrooms  \\\n",
       "0    -122.23     37.88                41.0        880.0           129.0   \n",
       "1    -122.22     37.86                21.0       7099.0          1106.0   \n",
       "2    -122.24     37.85                52.0       1467.0           190.0   \n",
       "3    -122.25     37.85                52.0       1274.0           235.0   \n",
       "4    -122.25     37.85                52.0       1627.0           280.0   \n",
       "\n",
       "   population  households  median_income  median_house_value ocean_proximity  \n",
       "0       322.0       126.0         8.3252            452600.0        NEAR BAY  \n",
       "1      2401.0      1138.0         8.3014            358500.0        NEAR BAY  \n",
       "2       496.0       177.0         7.2574            352100.0        NEAR BAY  \n",
       "3       558.0       219.0         5.6431            341300.0        NEAR BAY  \n",
       "4       565.0       259.0         3.8462            342200.0        NEAR BAY  "
      ]
     },
     "execution_count": 2,
     "metadata": {},
     "output_type": "execute_result"
    }
   ],
   "source": [
    "# Importing Data\n",
    "imported_data = pd.read_csv(r'.\\kunskapskontroll_ai2_del1\\housing.csv')\n",
    "imported_data.head()"
   ]
  },
  {
   "cell_type": "code",
   "execution_count": 3,
   "id": "968fb620-8b2e-435d-a1ad-531020e9e611",
   "metadata": {},
   "outputs": [
    {
     "name": "stdout",
     "output_type": "stream",
     "text": [
      "<class 'pandas.core.frame.DataFrame'>\n",
      "RangeIndex: 20640 entries, 0 to 20639\n",
      "Data columns (total 17 columns):\n",
      " #   Column                      Non-Null Count  Dtype  \n",
      "---  ------                      --------------  -----  \n",
      " 0   longitude                   20640 non-null  float64\n",
      " 1   latitude                    20640 non-null  float64\n",
      " 2   housing_median_age          20640 non-null  float64\n",
      " 3   total_rooms                 20640 non-null  float64\n",
      " 4   total_bedrooms              20433 non-null  float64\n",
      " 5   population                  20640 non-null  float64\n",
      " 6   households                  20640 non-null  float64\n",
      " 7   median_income               20640 non-null  float64\n",
      " 8   median_house_value          20640 non-null  float64\n",
      " 9   rooms_per_household         20640 non-null  float64\n",
      " 10  bedrooms_per_household      20433 non-null  float64\n",
      " 11  population_per_household    20640 non-null  float64\n",
      " 12  ocean_proximity_<1H OCEAN   20640 non-null  int32  \n",
      " 13  ocean_proximity_INLAND      20640 non-null  int32  \n",
      " 14  ocean_proximity_ISLAND      20640 non-null  int32  \n",
      " 15  ocean_proximity_NEAR BAY    20640 non-null  int32  \n",
      " 16  ocean_proximity_NEAR OCEAN  20640 non-null  int32  \n",
      "dtypes: float64(12), int32(5)\n",
      "memory usage: 2.3 MB\n"
     ]
    }
   ],
   "source": [
    "data = imported_data\n",
    "\n",
    "# Creating new feature columns in the Dataset\n",
    "data['rooms_per_household'] = data['total_rooms'] / data['households']\n",
    "data['bedrooms_per_household'] = data['total_bedrooms'] / data['households']\n",
    "data['population_per_household'] = data['population'] / data['households']\n",
    "\n",
    "# Transforming 'ocean_proximity' feature using dummy variable encoding\n",
    "data = pd.get_dummies(data, columns=['ocean_proximity'], dtype=int)\n",
    "\n",
    "data.info()"
   ]
  },
  {
   "cell_type": "code",
   "execution_count": 4,
   "id": "65f42da7-2f62-4fc1-982b-37b123f5ced9",
   "metadata": {},
   "outputs": [
    {
     "name": "stdout",
     "output_type": "stream",
     "text": [
      "Housing dataset features:\n",
      "\n",
      " longitude                     float64\n",
      "latitude                      float64\n",
      "median_income                 float64\n",
      "rooms_per_household           float64\n",
      "bedrooms_per_household        float64\n",
      "population_per_household      float64\n",
      "ocean_proximity_<1H OCEAN       int32\n",
      "ocean_proximity_INLAND          int32\n",
      "ocean_proximity_ISLAND          int32\n",
      "ocean_proximity_NEAR BAY        int32\n",
      "ocean_proximity_NEAR OCEAN      int32\n",
      "median_house_value            float64\n",
      "dtype: object\n"
     ]
    }
   ],
   "source": [
    "# List of features used for the training data:\n",
    "housing_features = [\n",
    "    'longitude',\n",
    "    'latitude',\n",
    "    'median_income',\n",
    "    'rooms_per_household',\n",
    "    'bedrooms_per_household',\n",
    "    'population_per_household',\n",
    "    'ocean_proximity_<1H OCEAN',\n",
    "    'ocean_proximity_INLAND', \n",
    "    'ocean_proximity_ISLAND', \n",
    "    'ocean_proximity_NEAR BAY', \n",
    "    'ocean_proximity_NEAR OCEAN',\n",
    "    'median_house_value'\n",
    "]\n",
    "housing = data[housing_features]\n",
    "print('Housing dataset features:\\n\\n',housing.dtypes)"
   ]
  },
  {
   "cell_type": "markdown",
   "id": "fee19169",
   "metadata": {},
   "source": [
    "## EDA"
   ]
  },
  {
   "cell_type": "code",
   "execution_count": 5,
   "id": "2de1972f-3143-439f-a0a3-54516d535764",
   "metadata": {
    "scrolled": true
   },
   "outputs": [],
   "source": [
    "# Defining Median House Value as target variable.\n",
    "X = housing.drop('median_house_value', axis=1)\n",
    "y = housing['median_house_value']\n",
    "\n",
    "X_train_val, X_test, y_train_val, y_test = train_test_split(X, y, test_size=0.2, random_state=42)\n",
    "X_train, X_val, y_train, y_val = train_test_split(X_train_val, y_train_val, test_size=0.3, random_state=42)\n"
   ]
  },
  {
   "cell_type": "markdown",
   "id": "eb25c7bb-ba01-4aeb-92ff-c798ff9bbbea",
   "metadata": {},
   "source": [
    "#### Checking Missing Values"
   ]
  },
  {
   "cell_type": "code",
   "execution_count": 6,
   "id": "5e566f5f",
   "metadata": {},
   "outputs": [
    {
     "name": "stdout",
     "output_type": "stream",
     "text": [
      "Null values:\n",
      "\n",
      " longitude                       0\n",
      "latitude                        0\n",
      "median_income                   0\n",
      "rooms_per_household             0\n",
      "bedrooms_per_household        207\n",
      "population_per_household        0\n",
      "ocean_proximity_<1H OCEAN       0\n",
      "ocean_proximity_INLAND          0\n",
      "ocean_proximity_ISLAND          0\n",
      "ocean_proximity_NEAR BAY        0\n",
      "ocean_proximity_NEAR OCEAN      0\n",
      "median_house_value              0\n",
      "dtype: int64\n"
     ]
    }
   ],
   "source": [
    "# Checking for missing Values\n",
    "print('Null values:\\n\\n', housing.isnull().sum())"
   ]
  },
  {
   "cell_type": "code",
   "execution_count": 7,
   "id": "6dd673c6-041f-4593-97d1-1f28880c718c",
   "metadata": {},
   "outputs": [
    {
     "name": "stdout",
     "output_type": "stream",
     "text": [
      "Null values have been dropped:\n",
      "\n",
      " longitude                     0\n",
      "latitude                      0\n",
      "median_income                 0\n",
      "rooms_per_household           0\n",
      "bedrooms_per_household        0\n",
      "population_per_household      0\n",
      "ocean_proximity_<1H OCEAN     0\n",
      "ocean_proximity_INLAND        0\n",
      "ocean_proximity_ISLAND        0\n",
      "ocean_proximity_NEAR BAY      0\n",
      "ocean_proximity_NEAR OCEAN    0\n",
      "median_house_value            0\n",
      "dtype: int64\n"
     ]
    },
    {
     "name": "stderr",
     "output_type": "stream",
     "text": [
      "C:\\Users\\Holt\\AppData\\Local\\Temp\\ipykernel_101356\\795602734.py:3: SettingWithCopyWarning: \n",
      "A value is trying to be set on a copy of a slice from a DataFrame\n",
      "\n",
      "See the caveats in the documentation: https://pandas.pydata.org/pandas-docs/stable/user_guide/indexing.html#returning-a-view-versus-a-copy\n",
      "  housing.dropna(inplace=True)\n"
     ]
    }
   ],
   "source": [
    "# Drop all null values\n",
    "## Use Imputer instead\n",
    "housing.dropna(inplace=True)\n",
    "\n",
    "print('Null values have been dropped:\\n\\n', housing.isnull().sum())"
   ]
  },
  {
   "cell_type": "markdown",
   "id": "64a2e9b3-5096-40e8-a3ca-9b00ab40b9c7",
   "metadata": {},
   "source": [
    "#### Inspecting Dataset"
   ]
  },
  {
   "cell_type": "code",
   "execution_count": 8,
   "id": "a395cdb9-222f-4f7a-ab7b-7257ff1caa8f",
   "metadata": {},
   "outputs": [
    {
     "name": "stdout",
     "output_type": "stream",
     "text": [
      "          longitude      latitude  median_income  rooms_per_household  \\\n",
      "count  20433.000000  20433.000000   20433.000000         20433.000000   \n",
      "mean    -119.570689     35.633221       3.871162             5.431344   \n",
      "std        2.003578      2.136348       1.899291             2.482946   \n",
      "min     -124.350000     32.540000       0.499900             0.846154   \n",
      "25%     -121.800000     33.930000       2.563700             4.441441   \n",
      "50%     -118.490000     34.260000       3.536500             5.230769   \n",
      "75%     -118.010000     37.720000       4.744000             6.052381   \n",
      "max     -114.310000     41.950000      15.000100           141.909091   \n",
      "\n",
      "       bedrooms_per_household  population_per_household  \\\n",
      "count            20433.000000              20433.000000   \n",
      "mean                 1.097062                  3.071533   \n",
      "std                  0.476104                 10.438269   \n",
      "min                  0.333333                  0.692308   \n",
      "25%                  1.006029                  2.429032   \n",
      "50%                  1.048889                  2.817582   \n",
      "75%                  1.099631                  3.281513   \n",
      "max                 34.066667               1243.333333   \n",
      "\n",
      "       ocean_proximity_<1H OCEAN  ocean_proximity_INLAND  \\\n",
      "count               20433.000000            20433.000000   \n",
      "mean                    0.442128                0.317917   \n",
      "std                     0.496652                0.465678   \n",
      "min                     0.000000                0.000000   \n",
      "25%                     0.000000                0.000000   \n",
      "50%                     0.000000                0.000000   \n",
      "75%                     1.000000                1.000000   \n",
      "max                     1.000000                1.000000   \n",
      "\n",
      "       ocean_proximity_ISLAND  ocean_proximity_NEAR BAY  \\\n",
      "count            20433.000000              20433.000000   \n",
      "mean                 0.000245                  0.111095   \n",
      "std                  0.015641                  0.314257   \n",
      "min                  0.000000                  0.000000   \n",
      "25%                  0.000000                  0.000000   \n",
      "50%                  0.000000                  0.000000   \n",
      "75%                  0.000000                  0.000000   \n",
      "max                  1.000000                  1.000000   \n",
      "\n",
      "       ocean_proximity_NEAR OCEAN  median_house_value  \n",
      "count                20433.000000        20433.000000  \n",
      "mean                     0.128615       206864.413155  \n",
      "std                      0.334782       115435.667099  \n",
      "min                      0.000000        14999.000000  \n",
      "25%                      0.000000       119500.000000  \n",
      "50%                      0.000000       179700.000000  \n",
      "75%                      0.000000       264700.000000  \n",
      "max                      1.000000       500001.000000  \n"
     ]
    }
   ],
   "source": [
    "# Inspecting Dataset\n",
    "print(housing.describe())"
   ]
  },
  {
   "cell_type": "code",
   "execution_count": 9,
   "id": "f373da37-80de-4072-80f0-1d7d95e1f93b",
   "metadata": {},
   "outputs": [
    {
     "data": {
      "image/png": "[encoded data removed]",
      "text/plain": [
       "<Figure size 640x480 with 1 Axes>"
      ]
     },
     "metadata": {},
     "output_type": "display_data"
    }
   ],
   "source": [
    "# Visualising Housing dataset Correlation\n",
    "correlation_matrix = housing.corr()\n",
    "target_correlations = correlation_matrix['median_house_value'].sort_values(ascending=False)\n",
    "sns.set(style=\"whitegrid\")\n",
    "\n",
    "# Correlation Barplot\n",
    "bar_plot = sns.barplot(x=target_correlations.values, y=target_correlations.index, palette=\"coolwarm\")\n",
    "plt.title(\"Correlation of Features with House Price\")\n",
    "bar_plot.set_title(\"Correlation of Features with House Price\", fontsize=16)\n",
    "bar_plot.set_xlabel(\"Correlation\")\n",
    "bar_plot.set_ylabel(\"Features\")\n",
    "bar_plot.tick_params(labelsize=12)\n",
    "plt.show()"
   ]
  },
  {
   "cell_type": "code",
   "execution_count": null,
   "id": "68034eff-8284-4d8d-85e3-141c43c7c707",
   "metadata": {},
   "outputs": [],
   "source": []
  },
  {
   "cell_type": "markdown",
   "id": "8b899744-621f-41c3-8b81-5244c217507f",
   "metadata": {},
   "source": [
    "## Data Cleanup"
   ]
  },
  {
   "cell_type": "markdown",
   "id": "b1a3739d-bc1d-4546-996c-64d6a3484961",
   "metadata": {},
   "source": [
    "## Model"
   ]
  }
 ],
 "metadata": {
  "kernelspec": {
   "display_name": "Python 3 (ipykernel)",
   "language": "python",
   "name": "python3"
  },
  "language_info": {
   "codemirror_mode": {
    "name": "ipython",
    "version": 3
   },
   "file_extension": ".py",
   "mimetype": "text/x-python",
   "name": "python",
   "nbconvert_exporter": "python",
   "pygments_lexer": "ipython3",
   "version": "3.11.9"
  }
 },
 "nbformat": 4,
 "nbformat_minor": 5
}
